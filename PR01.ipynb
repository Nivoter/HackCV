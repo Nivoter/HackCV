{
  "nbformat": 4,
  "nbformat_minor": 0,
  "metadata": {
    "colab": {
      "name": "Untitled2.ipynb",
      "provenance": [],
      "authorship_tag": "ABX9TyN2uFNx2N7NwTarxj9mIncI",
      "include_colab_link": true
    },
    "kernelspec": {
      "name": "python3",
      "display_name": "Python 3"
    }
  },
  "cells": [
    {
      "cell_type": "markdown",
      "metadata": {
        "id": "view-in-github",
        "colab_type": "text"
      },
      "source": [
        "<a href=\"https://colab.research.google.com/github/Nivoter/HackCV/blob/master/PR01.ipynb\" target=\"_parent\"><img src=\"https://colab.research.google.com/assets/colab-badge.svg\" alt=\"Open In Colab\"/></a>"
      ]
    },
    {
      "cell_type": "code",
      "metadata": {
        "id": "164p9qqs6UY8"
      },
      "source": [
        "import numpy as np"
      ],
      "execution_count": 2,
      "outputs": []
    },
    {
      "cell_type": "code",
      "metadata": {
        "id": "I-CIzBtrBCNN",
        "outputId": "c1b05a9d-529e-4466-8f21-b32ef21efcb9",
        "colab": {
          "base_uri": "https://localhost:8080/",
          "height": 34
        }
      },
      "source": [
        "arr = [1, 2, 3, 4, 5, 6, 7, 8, 9, 10]\n",
        "arr\n"
      ],
      "execution_count": 8,
      "outputs": [
        {
          "output_type": "execute_result",
          "data": {
            "text/plain": [
              "[1, 2, 3, 4, 5, 6, 7, 8, 9, 10]"
            ]
          },
          "metadata": {
            "tags": []
          },
          "execution_count": 8
        }
      ]
    },
    {
      "cell_type": "markdown",
      "metadata": {
        "id": "Jam7W8DpBbqf"
      },
      "source": [
        "Задание 1\n",
        "\n",
        "Объясните результат операции:"
      ]
    },
    {
      "cell_type": "code",
      "metadata": {
        "id": "ZTj0YfpxBeMO",
        "outputId": "faf4ccff-4da4-424b-e744-efb53b19c3c9",
        "colab": {
          "base_uri": "https://localhost:8080/",
          "height": 34
        }
      },
      "source": [
        "print(arr[:5:-2])"
      ],
      "execution_count": 17,
      "outputs": [
        {
          "output_type": "stream",
          "text": [
            "[10, 8]\n"
          ],
          "name": "stdout"
        }
      ]
    },
    {
      "cell_type": "markdown",
      "metadata": {
        "id": "BS2v4d1OB3IX"
      },
      "source": [
        "Если задан отрицательный шаг, то index_start и index_end меняются местами, следовательно выполнена следующая запись [index_end:index_start:-2] \n",
        "\n",
        "Также, в случае незаданного index_end он равняется индексу конца массива\n",
        "\n",
        "Поэтому эта команда и вывела элементы с конца до 5 с шагом 2\n"
      ]
    },
    {
      "cell_type": "markdown",
      "metadata": {
        "id": "wZVBqIX2DKx7"
      },
      "source": [
        "Задание 2\n",
        "\n",
        "Получите перевернутый список:\n",
        "\n",
        "[9, 8, 7, 6, 5, 4, 3, 2, 1, 0]"
      ]
    },
    {
      "cell_type": "code",
      "metadata": {
        "id": "_G91cxHJCS2Q",
        "outputId": "0ace1fb6-a0f6-4e28-af16-c3585d34b34b",
        "colab": {
          "base_uri": "https://localhost:8080/",
          "height": 50
        }
      },
      "source": [
        "data = list(range(10))\n",
        "print(data)\n",
        "\n",
        "# TODO - [9, 8, 7, 6, 5, 4, 3, 2, 1, 0]\n",
        "print(data[::-1])"
      ],
      "execution_count": 19,
      "outputs": [
        {
          "output_type": "stream",
          "text": [
            "[0, 1, 2, 3, 4, 5, 6, 7, 8, 9]\n",
            "[9, 8, 7, 6, 5, 4, 3, 2, 1, 0]\n"
          ],
          "name": "stdout"
        }
      ]
    },
    {
      "cell_type": "markdown",
      "metadata": {
        "id": "yr9eS3irDemg"
      },
      "source": [
        "Задание 3\n",
        "\n",
        "Получите массив без первого и двух последних элементов:"
      ]
    },
    {
      "cell_type": "code",
      "metadata": {
        "id": "sd1C4YovDmFl",
        "outputId": "b1ea289d-f091-4c5a-cd2c-68fb635aa961",
        "colab": {
          "base_uri": "https://localhost:8080/",
          "height": 50
        }
      },
      "source": [
        "data = list(range(10))\n",
        "print(data)\n",
        "\n",
        "# TODO - [1, 2, 3, 4, 5, 6, 7]\n",
        "print(data[1:8])"
      ],
      "execution_count": 20,
      "outputs": [
        {
          "output_type": "stream",
          "text": [
            "[0, 1, 2, 3, 4, 5, 6, 7, 8, 9]\n",
            "[1, 2, 3, 4, 5, 6, 7]\n"
          ],
          "name": "stdout"
        }
      ]
    },
    {
      "cell_type": "markdown",
      "metadata": {
        "id": "_dHtkhZODtlB"
      },
      "source": [
        "\n",
        "Задание 4\n",
        "\n",
        "Получите массив без крайних рядов и колонок (по одной с каждой стороны)"
      ]
    },
    {
      "cell_type": "code",
      "metadata": {
        "id": "icpJCVbiEFfV",
        "outputId": "87dfc894-de08-4ce8-f72c-320b15a2d709",
        "colab": {
          "base_uri": "https://localhost:8080/",
          "height": 185
        }
      },
      "source": [
        "data = np.random.randint(low=0, high=10, size=(5, 6))\n",
        "print(data)\n",
        "print('/////////')\n",
        "print(data[1:5,1:5])\n",
        "# TODO - центральная часть массива размером (4, 5)"
      ],
      "execution_count": 29,
      "outputs": [
        {
          "output_type": "stream",
          "text": [
            "[[2 4 8 1 1 3]\n",
            " [9 1 0 6 1 6]\n",
            " [4 3 4 1 0 1]\n",
            " [8 8 1 5 5 5]\n",
            " [4 9 3 9 4 5]]\n",
            "/////////\n",
            "[[1 0 6 1]\n",
            " [3 4 1 0]\n",
            " [8 1 5 5]\n",
            " [9 3 9 4]]\n"
          ],
          "name": "stdout"
        }
      ]
    },
    {
      "cell_type": "markdown",
      "metadata": {
        "id": "_zg9VocdEtJR"
      },
      "source": [
        "Задание 5\n",
        "\n",
        "Произведите перемешивание колонок с помощью функции numpy.random.permutation():"
      ]
    },
    {
      "cell_type": "code",
      "metadata": {
        "id": "4qkJf05uEvJu",
        "outputId": "2fb66835-2716-482b-b9d1-122e9b2e859b",
        "colab": {
          "base_uri": "https://localhost:8080/",
          "height": 134
        }
      },
      "source": [
        "\n",
        "data = np.random.randint(low=0, high=10, size=(3, 6))\n",
        "print(data)\n",
        "\n",
        "# TODO - такой же массив, но со случайной перестановкой колонок\n",
        "print('/////////')\n",
        "\n",
        "print(data[:,np.random.permutation(6)])"
      ],
      "execution_count": 51,
      "outputs": [
        {
          "output_type": "stream",
          "text": [
            "[[0 4 0 3 7 5]\n",
            " [3 9 7 3 4 3]\n",
            " [2 4 9 9 3 1]]\n",
            "/////////\n",
            "[[5 4 7 3 0 0]\n",
            " [3 9 4 3 7 3]\n",
            " [1 4 3 9 9 2]]\n"
          ],
          "name": "stdout"
        }
      ]
    },
    {
      "cell_type": "markdown",
      "metadata": {
        "id": "w3iZxzcAI7sH"
      },
      "source": [
        "\n",
        "Задание 6\n",
        "\n",
        "Определите, имеется ли хотя бы одно значение больше пяти и меньше восьми в массиве:"
      ]
    },
    {
      "cell_type": "code",
      "metadata": {
        "id": "DvtuKcU8JJF1",
        "outputId": "8c392eff-2822-4799-836a-a47f4c311c3f",
        "colab": {
          "base_uri": "https://localhost:8080/",
          "height": 84
        }
      },
      "source": [
        "arr = np.array([[1, 2, 3, 4], [5, 6, 7, 8], [9, 10, 11, 12]])\n",
        "print(arr)\n",
        "\n",
        "# TODO - определить, имеется ли в массиве хотя бы один элемент, \n",
        "#           отвечающий условию больше пяти и меньше восьми\n",
        "\n",
        "np.any((arr>5)&(arr<8))"
      ],
      "execution_count": 61,
      "outputs": [
        {
          "output_type": "stream",
          "text": [
            "[[ 1  2  3  4]\n",
            " [ 5  6  7  8]\n",
            " [ 9 10 11 12]]\n"
          ],
          "name": "stdout"
        },
        {
          "output_type": "execute_result",
          "data": {
            "text/plain": [
              "True"
            ]
          },
          "metadata": {
            "tags": []
          },
          "execution_count": 61
        }
      ]
    },
    {
      "cell_type": "markdown",
      "metadata": {
        "id": "9TPDaVDsKgZB"
      },
      "source": [
        "Задание\n",
        "\n",
        "Напишите операцию получения суммы элементов по всем стобцам:"
      ]
    },
    {
      "cell_type": "code",
      "metadata": {
        "id": "NWj2k0R7KlOW",
        "outputId": "007ea9a2-51ff-4fc7-c2d6-19aa139c583e",
        "colab": {
          "base_uri": "https://localhost:8080/",
          "height": 84
        }
      },
      "source": [
        "\n",
        "data = np.random.randint(low=0, high=5, size=(3, 6))\n",
        "print(data)\n",
        "\n",
        "# TODO - вектор сумм элементов по каждому столбцу\n",
        "data1 = np.sum(data,axis=0)\n",
        "print(data1)"
      ],
      "execution_count": 63,
      "outputs": [
        {
          "output_type": "stream",
          "text": [
            "[[2 0 1 2 4 2]\n",
            " [4 0 3 2 3 1]\n",
            " [1 0 2 2 1 3]]\n",
            "[7 0 6 6 8 6]\n"
          ],
          "name": "stdout"
        }
      ]
    },
    {
      "cell_type": "markdown",
      "metadata": {
        "id": "caFv9eCZK8d2"
      },
      "source": [
        ""
      ]
    },
    {
      "cell_type": "code",
      "metadata": {
        "id": "6KBWh5iWLOY_",
        "outputId": "5d093674-f851-4e2f-bd5c-3cab9405901b",
        "colab": {
          "base_uri": "https://localhost:8080/",
          "height": 403
        }
      },
      "source": [
        "\n",
        "x = np.ones((4, 1, 1))\n",
        "y = np.random.randint(0, 5, size=(4, 3, 2))\n",
        "print(x)\n",
        "print(y)\n",
        "print((x*y).shape)"
      ],
      "execution_count": 65,
      "outputs": [
        {
          "output_type": "stream",
          "text": [
            "[[[1.]]\n",
            "\n",
            " [[1.]]\n",
            "\n",
            " [[1.]]\n",
            "\n",
            " [[1.]]]\n",
            "[[[3 2]\n",
            "  [1 1]\n",
            "  [4 3]]\n",
            "\n",
            " [[3 2]\n",
            "  [0 3]\n",
            "  [3 0]]\n",
            "\n",
            " [[4 3]\n",
            "  [0 4]\n",
            "  [3 0]]\n",
            "\n",
            " [[2 4]\n",
            "  [2 0]\n",
            "  [3 3]]]\n",
            "(4, 3, 2)\n"
          ],
          "name": "stdout"
        }
      ]
    }
  ]
}